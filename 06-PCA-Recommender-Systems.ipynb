{
 "cells": [
  {
   "cell_type": "code",
   "execution_count": 2,
   "metadata": {},
   "outputs": [],
   "source": [
    "import matplotlib.pyplot as plt\n",
    "import pandas as pd\n",
    "import numpy as np\n",
    "import seaborn as sns\n",
    "%matplotlib inline"
   ]
  },
  {
   "cell_type": "code",
   "execution_count": 3,
   "metadata": {},
   "outputs": [
    {
     "data": {
      "text/plain": [
       "dict_keys(['data', 'target', 'frame', 'target_names', 'DESCR', 'feature_names', 'filename', 'data_module'])"
      ]
     },
     "execution_count": 3,
     "metadata": {},
     "output_type": "execute_result"
    }
   ],
   "source": [
    "from sklearn.datasets import load_breast_cancer\n",
    "cancer = load_breast_cancer()\n",
    "cancer.keys()"
   ]
  },
  {
   "cell_type": "code",
   "execution_count": 4,
   "metadata": {},
   "outputs": [
    {
     "data": {
      "text/html": [
       "<div>\n",
       "<style scoped>\n",
       "    .dataframe tbody tr th:only-of-type {\n",
       "        vertical-align: middle;\n",
       "    }\n",
       "\n",
       "    .dataframe tbody tr th {\n",
       "        vertical-align: top;\n",
       "    }\n",
       "\n",
       "    .dataframe thead th {\n",
       "        text-align: right;\n",
       "    }\n",
       "</style>\n",
       "<table border=\"1\" class=\"dataframe\">\n",
       "  <thead>\n",
       "    <tr style=\"text-align: right;\">\n",
       "      <th></th>\n",
       "      <th>mean radius</th>\n",
       "      <th>mean texture</th>\n",
       "      <th>mean perimeter</th>\n",
       "      <th>mean area</th>\n",
       "      <th>mean smoothness</th>\n",
       "      <th>mean compactness</th>\n",
       "      <th>mean concavity</th>\n",
       "      <th>mean concave points</th>\n",
       "      <th>mean symmetry</th>\n",
       "      <th>mean fractal dimension</th>\n",
       "      <th>...</th>\n",
       "      <th>worst radius</th>\n",
       "      <th>worst texture</th>\n",
       "      <th>worst perimeter</th>\n",
       "      <th>worst area</th>\n",
       "      <th>worst smoothness</th>\n",
       "      <th>worst compactness</th>\n",
       "      <th>worst concavity</th>\n",
       "      <th>worst concave points</th>\n",
       "      <th>worst symmetry</th>\n",
       "      <th>worst fractal dimension</th>\n",
       "    </tr>\n",
       "  </thead>\n",
       "  <tbody>\n",
       "    <tr>\n",
       "      <th>count</th>\n",
       "      <td>569.000000</td>\n",
       "      <td>569.000000</td>\n",
       "      <td>569.000000</td>\n",
       "      <td>569.000000</td>\n",
       "      <td>569.000000</td>\n",
       "      <td>569.000000</td>\n",
       "      <td>569.000000</td>\n",
       "      <td>569.000000</td>\n",
       "      <td>569.000000</td>\n",
       "      <td>569.000000</td>\n",
       "      <td>...</td>\n",
       "      <td>569.000000</td>\n",
       "      <td>569.000000</td>\n",
       "      <td>569.000000</td>\n",
       "      <td>569.000000</td>\n",
       "      <td>569.000000</td>\n",
       "      <td>569.000000</td>\n",
       "      <td>569.000000</td>\n",
       "      <td>569.000000</td>\n",
       "      <td>569.000000</td>\n",
       "      <td>569.000000</td>\n",
       "    </tr>\n",
       "    <tr>\n",
       "      <th>mean</th>\n",
       "      <td>14.127292</td>\n",
       "      <td>19.289649</td>\n",
       "      <td>91.969033</td>\n",
       "      <td>654.889104</td>\n",
       "      <td>0.096360</td>\n",
       "      <td>0.104341</td>\n",
       "      <td>0.088799</td>\n",
       "      <td>0.048919</td>\n",
       "      <td>0.181162</td>\n",
       "      <td>0.062798</td>\n",
       "      <td>...</td>\n",
       "      <td>16.269190</td>\n",
       "      <td>25.677223</td>\n",
       "      <td>107.261213</td>\n",
       "      <td>880.583128</td>\n",
       "      <td>0.132369</td>\n",
       "      <td>0.254265</td>\n",
       "      <td>0.272188</td>\n",
       "      <td>0.114606</td>\n",
       "      <td>0.290076</td>\n",
       "      <td>0.083946</td>\n",
       "    </tr>\n",
       "    <tr>\n",
       "      <th>std</th>\n",
       "      <td>3.524049</td>\n",
       "      <td>4.301036</td>\n",
       "      <td>24.298981</td>\n",
       "      <td>351.914129</td>\n",
       "      <td>0.014064</td>\n",
       "      <td>0.052813</td>\n",
       "      <td>0.079720</td>\n",
       "      <td>0.038803</td>\n",
       "      <td>0.027414</td>\n",
       "      <td>0.007060</td>\n",
       "      <td>...</td>\n",
       "      <td>4.833242</td>\n",
       "      <td>6.146258</td>\n",
       "      <td>33.602542</td>\n",
       "      <td>569.356993</td>\n",
       "      <td>0.022832</td>\n",
       "      <td>0.157336</td>\n",
       "      <td>0.208624</td>\n",
       "      <td>0.065732</td>\n",
       "      <td>0.061867</td>\n",
       "      <td>0.018061</td>\n",
       "    </tr>\n",
       "    <tr>\n",
       "      <th>min</th>\n",
       "      <td>6.981000</td>\n",
       "      <td>9.710000</td>\n",
       "      <td>43.790000</td>\n",
       "      <td>143.500000</td>\n",
       "      <td>0.052630</td>\n",
       "      <td>0.019380</td>\n",
       "      <td>0.000000</td>\n",
       "      <td>0.000000</td>\n",
       "      <td>0.106000</td>\n",
       "      <td>0.049960</td>\n",
       "      <td>...</td>\n",
       "      <td>7.930000</td>\n",
       "      <td>12.020000</td>\n",
       "      <td>50.410000</td>\n",
       "      <td>185.200000</td>\n",
       "      <td>0.071170</td>\n",
       "      <td>0.027290</td>\n",
       "      <td>0.000000</td>\n",
       "      <td>0.000000</td>\n",
       "      <td>0.156500</td>\n",
       "      <td>0.055040</td>\n",
       "    </tr>\n",
       "    <tr>\n",
       "      <th>25%</th>\n",
       "      <td>11.700000</td>\n",
       "      <td>16.170000</td>\n",
       "      <td>75.170000</td>\n",
       "      <td>420.300000</td>\n",
       "      <td>0.086370</td>\n",
       "      <td>0.064920</td>\n",
       "      <td>0.029560</td>\n",
       "      <td>0.020310</td>\n",
       "      <td>0.161900</td>\n",
       "      <td>0.057700</td>\n",
       "      <td>...</td>\n",
       "      <td>13.010000</td>\n",
       "      <td>21.080000</td>\n",
       "      <td>84.110000</td>\n",
       "      <td>515.300000</td>\n",
       "      <td>0.116600</td>\n",
       "      <td>0.147200</td>\n",
       "      <td>0.114500</td>\n",
       "      <td>0.064930</td>\n",
       "      <td>0.250400</td>\n",
       "      <td>0.071460</td>\n",
       "    </tr>\n",
       "    <tr>\n",
       "      <th>50%</th>\n",
       "      <td>13.370000</td>\n",
       "      <td>18.840000</td>\n",
       "      <td>86.240000</td>\n",
       "      <td>551.100000</td>\n",
       "      <td>0.095870</td>\n",
       "      <td>0.092630</td>\n",
       "      <td>0.061540</td>\n",
       "      <td>0.033500</td>\n",
       "      <td>0.179200</td>\n",
       "      <td>0.061540</td>\n",
       "      <td>...</td>\n",
       "      <td>14.970000</td>\n",
       "      <td>25.410000</td>\n",
       "      <td>97.660000</td>\n",
       "      <td>686.500000</td>\n",
       "      <td>0.131300</td>\n",
       "      <td>0.211900</td>\n",
       "      <td>0.226700</td>\n",
       "      <td>0.099930</td>\n",
       "      <td>0.282200</td>\n",
       "      <td>0.080040</td>\n",
       "    </tr>\n",
       "    <tr>\n",
       "      <th>75%</th>\n",
       "      <td>15.780000</td>\n",
       "      <td>21.800000</td>\n",
       "      <td>104.100000</td>\n",
       "      <td>782.700000</td>\n",
       "      <td>0.105300</td>\n",
       "      <td>0.130400</td>\n",
       "      <td>0.130700</td>\n",
       "      <td>0.074000</td>\n",
       "      <td>0.195700</td>\n",
       "      <td>0.066120</td>\n",
       "      <td>...</td>\n",
       "      <td>18.790000</td>\n",
       "      <td>29.720000</td>\n",
       "      <td>125.400000</td>\n",
       "      <td>1084.000000</td>\n",
       "      <td>0.146000</td>\n",
       "      <td>0.339100</td>\n",
       "      <td>0.382900</td>\n",
       "      <td>0.161400</td>\n",
       "      <td>0.317900</td>\n",
       "      <td>0.092080</td>\n",
       "    </tr>\n",
       "    <tr>\n",
       "      <th>max</th>\n",
       "      <td>28.110000</td>\n",
       "      <td>39.280000</td>\n",
       "      <td>188.500000</td>\n",
       "      <td>2501.000000</td>\n",
       "      <td>0.163400</td>\n",
       "      <td>0.345400</td>\n",
       "      <td>0.426800</td>\n",
       "      <td>0.201200</td>\n",
       "      <td>0.304000</td>\n",
       "      <td>0.097440</td>\n",
       "      <td>...</td>\n",
       "      <td>36.040000</td>\n",
       "      <td>49.540000</td>\n",
       "      <td>251.200000</td>\n",
       "      <td>4254.000000</td>\n",
       "      <td>0.222600</td>\n",
       "      <td>1.058000</td>\n",
       "      <td>1.252000</td>\n",
       "      <td>0.291000</td>\n",
       "      <td>0.663800</td>\n",
       "      <td>0.207500</td>\n",
       "    </tr>\n",
       "  </tbody>\n",
       "</table>\n",
       "<p>8 rows × 30 columns</p>\n",
       "</div>"
      ],
      "text/plain": [
       "       mean radius  mean texture  mean perimeter    mean area   \n",
       "count   569.000000    569.000000      569.000000   569.000000  \\\n",
       "mean     14.127292     19.289649       91.969033   654.889104   \n",
       "std       3.524049      4.301036       24.298981   351.914129   \n",
       "min       6.981000      9.710000       43.790000   143.500000   \n",
       "25%      11.700000     16.170000       75.170000   420.300000   \n",
       "50%      13.370000     18.840000       86.240000   551.100000   \n",
       "75%      15.780000     21.800000      104.100000   782.700000   \n",
       "max      28.110000     39.280000      188.500000  2501.000000   \n",
       "\n",
       "       mean smoothness  mean compactness  mean concavity  mean concave points   \n",
       "count       569.000000        569.000000      569.000000           569.000000  \\\n",
       "mean          0.096360          0.104341        0.088799             0.048919   \n",
       "std           0.014064          0.052813        0.079720             0.038803   \n",
       "min           0.052630          0.019380        0.000000             0.000000   \n",
       "25%           0.086370          0.064920        0.029560             0.020310   \n",
       "50%           0.095870          0.092630        0.061540             0.033500   \n",
       "75%           0.105300          0.130400        0.130700             0.074000   \n",
       "max           0.163400          0.345400        0.426800             0.201200   \n",
       "\n",
       "       mean symmetry  mean fractal dimension  ...  worst radius   \n",
       "count     569.000000              569.000000  ...    569.000000  \\\n",
       "mean        0.181162                0.062798  ...     16.269190   \n",
       "std         0.027414                0.007060  ...      4.833242   \n",
       "min         0.106000                0.049960  ...      7.930000   \n",
       "25%         0.161900                0.057700  ...     13.010000   \n",
       "50%         0.179200                0.061540  ...     14.970000   \n",
       "75%         0.195700                0.066120  ...     18.790000   \n",
       "max         0.304000                0.097440  ...     36.040000   \n",
       "\n",
       "       worst texture  worst perimeter   worst area  worst smoothness   \n",
       "count     569.000000       569.000000   569.000000        569.000000  \\\n",
       "mean       25.677223       107.261213   880.583128          0.132369   \n",
       "std         6.146258        33.602542   569.356993          0.022832   \n",
       "min        12.020000        50.410000   185.200000          0.071170   \n",
       "25%        21.080000        84.110000   515.300000          0.116600   \n",
       "50%        25.410000        97.660000   686.500000          0.131300   \n",
       "75%        29.720000       125.400000  1084.000000          0.146000   \n",
       "max        49.540000       251.200000  4254.000000          0.222600   \n",
       "\n",
       "       worst compactness  worst concavity  worst concave points   \n",
       "count         569.000000       569.000000            569.000000  \\\n",
       "mean            0.254265         0.272188              0.114606   \n",
       "std             0.157336         0.208624              0.065732   \n",
       "min             0.027290         0.000000              0.000000   \n",
       "25%             0.147200         0.114500              0.064930   \n",
       "50%             0.211900         0.226700              0.099930   \n",
       "75%             0.339100         0.382900              0.161400   \n",
       "max             1.058000         1.252000              0.291000   \n",
       "\n",
       "       worst symmetry  worst fractal dimension  \n",
       "count      569.000000               569.000000  \n",
       "mean         0.290076                 0.083946  \n",
       "std          0.061867                 0.018061  \n",
       "min          0.156500                 0.055040  \n",
       "25%          0.250400                 0.071460  \n",
       "50%          0.282200                 0.080040  \n",
       "75%          0.317900                 0.092080  \n",
       "max          0.663800                 0.207500  \n",
       "\n",
       "[8 rows x 30 columns]"
      ]
     },
     "execution_count": 4,
     "metadata": {},
     "output_type": "execute_result"
    }
   ],
   "source": [
    "df = pd.DataFrame(cancer['data'],columns=cancer['feature_names'])\n",
    "df.describe()"
   ]
  },
  {
   "cell_type": "code",
   "execution_count": 5,
   "metadata": {},
   "outputs": [
    {
     "name": "stdout",
     "output_type": "stream",
     "text": [
      "<class 'pandas.core.frame.DataFrame'>\n",
      "RangeIndex: 569 entries, 0 to 568\n",
      "Data columns (total 30 columns):\n",
      " #   Column                   Non-Null Count  Dtype  \n",
      "---  ------                   --------------  -----  \n",
      " 0   mean radius              569 non-null    float64\n",
      " 1   mean texture             569 non-null    float64\n",
      " 2   mean perimeter           569 non-null    float64\n",
      " 3   mean area                569 non-null    float64\n",
      " 4   mean smoothness          569 non-null    float64\n",
      " 5   mean compactness         569 non-null    float64\n",
      " 6   mean concavity           569 non-null    float64\n",
      " 7   mean concave points      569 non-null    float64\n",
      " 8   mean symmetry            569 non-null    float64\n",
      " 9   mean fractal dimension   569 non-null    float64\n",
      " 10  radius error             569 non-null    float64\n",
      " 11  texture error            569 non-null    float64\n",
      " 12  perimeter error          569 non-null    float64\n",
      " 13  area error               569 non-null    float64\n",
      " 14  smoothness error         569 non-null    float64\n",
      " 15  compactness error        569 non-null    float64\n",
      " 16  concavity error          569 non-null    float64\n",
      " 17  concave points error     569 non-null    float64\n",
      " 18  symmetry error           569 non-null    float64\n",
      " 19  fractal dimension error  569 non-null    float64\n",
      " 20  worst radius             569 non-null    float64\n",
      " 21  worst texture            569 non-null    float64\n",
      " 22  worst perimeter          569 non-null    float64\n",
      " 23  worst area               569 non-null    float64\n",
      " 24  worst smoothness         569 non-null    float64\n",
      " 25  worst compactness        569 non-null    float64\n",
      " 26  worst concavity          569 non-null    float64\n",
      " 27  worst concave points     569 non-null    float64\n",
      " 28  worst symmetry           569 non-null    float64\n",
      " 29  worst fractal dimension  569 non-null    float64\n",
      "dtypes: float64(30)\n",
      "memory usage: 133.5 KB\n"
     ]
    }
   ],
   "source": [
    "df.info()"
   ]
  },
  {
   "cell_type": "code",
   "execution_count": 6,
   "metadata": {},
   "outputs": [],
   "source": [
    "from sklearn.preprocessing import StandardScaler\n",
    "scaler = StandardScaler()\n",
    "scaled_data = scaler.fit_transform(df)"
   ]
  },
  {
   "cell_type": "code",
   "execution_count": 7,
   "metadata": {},
   "outputs": [],
   "source": [
    "from sklearn.decomposition import PCA\n",
    "pca = PCA(n_components=2)\n",
    "x_pca = pca.fit_transform(scaled_data)"
   ]
  },
  {
   "cell_type": "code",
   "execution_count": 8,
   "metadata": {},
   "outputs": [
    {
     "data": {
      "text/plain": [
       "Text(0, 0.5, 'Second Principal Component')"
      ]
     },
     "execution_count": 8,
     "metadata": {},
     "output_type": "execute_result"
    },
    {
     "data": {
      "image/png": "[encoded data removed]",
      "text/plain": [
       "<Figure size 800x600 with 1 Axes>"
      ]
     },
     "metadata": {},
     "output_type": "display_data"
    }
   ],
   "source": [
    "plt.figure(figsize=(8,6))\n",
    "plt.scatter(x_pca[:,0],x_pca[:,1],c=cancer['target'],cmap='plasma')\n",
    "plt.xlabel('First principal component')\n",
    "plt.ylabel('Second Principal Component')"
   ]
  },
  {
   "cell_type": "code",
   "execution_count": 9,
   "metadata": {},
   "outputs": [
    {
     "data": {
      "application/vnd.plotly.v1+json": {
       "config": {
        "plotlyServerURL": "https://plot.ly"
       },
       "data": [
        {
         "hovertemplate": "0=%{x}<br>1=%{y}<extra></extra>",
         "legendgroup": "",
         "marker": {
          "color": "#636efa",
          "symbol": "circle"
         },
         "mode": "markers",
         "name": "",
         "orientation": "v",
         "showlegend": false,
         "type": "scatter",
         "x": [
          9.192836826213222,
          2.387801795802369,
          5.733896279731715,
          7.122953197708937,
          3.935302073678087,
          2.3802471503459453,
          2.2388833080524724,
          2.1432985003775733,
          3.1749242930836483,
          6.351746789526133,
          -0.8104137708451825,
          2.651100477242473,
          8.185034458148094,
          0.34212591399008185,
          4.342379194647782,
          4.075656175346007,
          0.23005501571012718,
          4.418010915983001,
          4.948703550565218,
          -1.237063356955206,
          -1.5781612348122398,
          -3.5573363735500245,
          4.733210788209687,
          4.208524209050037,
          4.949632073983861,
          7.098562854912055,
          3.5102626039718263,
          3.064053886063162,
          4.007264143655791,
          1.7153097265431498,
          6.059445513504972,
          2.902236104999873,
          4.554782688815697,
          4.990602722475969,
          2.9853407889709,
          2.766369157777849,
          1.2961987650208295,
          -3.749313395938444,
          -0.9980689008801393,
          0.7652641153962475,
          -2.150953470730431,
          -0.0933313865671954,
          9.087999677261317,
          0.9904537655030574,
          -0.29354655092809073,
          5.380940406937104,
          -4.5819366721865,
          1.7000068868372435,
          -2.1364452772841163,
          -1.5674789972081495,
          -3.542905557463792,
          -3.1578140501813414,
          -3.4504885435159367,
          3.302550951378958,
          -0.6746192855717793,
          -2.8581584400465374,
          4.648738872436841,
          2.1768628822291123,
          -3.7214589928322375,
          -4.135962943789809,
          -2.385835663134428,
          -2.578883251968523,
          4.759112153865941,
          -2.314132249371481,
          1.6916079231690395,
          1.8123054050068934,
          -2.7859247566663723,
          -3.5186483396476818,
          4.3300026490846,
          -3.261279472772419,
          2.704596172630368,
          -0.3078557704768653,
          5.503705315293609,
          -0.361709192693615,
          -2.6299766385631833,
          1.4281675928953577,
          -0.8345178814911036,
          6.230896511902657,
          11.668714648329468,
          -2.0215776584355476,
          -1.6383849373649322,
          1.1674616110726102,
          10.769242819274215,
          5.034811085482818,
          -2.1744643095461593,
          3.288235384718748,
          0.6076079451777856,
          3.5835636260637056,
          -0.9341581043943805,
          1.2596046473493971,
          -1.5882639721786502,
          0.2524975675267036,
          -2.847431586696046,
          -1.9649501129379086,
          2.7758655690024803,
          4.396227954702656,
          -2.5920828278053136,
          -3.904338150152834,
          -2.818231213142336,
          0.6162808698251522,
          -0.43286022081657205,
          -4.5550288404481485,
          -3.4481835412174813,
          -2.1159602640305177,
          -2.6913522049621927,
          3.2139167651774354,
          -0.7492713563494864,
          -3.159006037414696,
          13.0561218586633,
          -2.2286798134421995,
          -2.4928310356116348,
          -0.1033504264140303,
          3.5912941186904974,
          -1.3489486828723083,
          -2.5101176755585612,
          -2.046029572451876,
          -2.0970691694489076,
          3.1105276933522195,
          4.9567255700022885,
          0.8510142626648128,
          -2.9659992066225267,
          3.33413319802047,
          12.894612133968737,
          -0.7707436775319826,
          -2.20251552378245,
          -3.143412245602721,
          -0.6388804999702953,
          1.9191334226485388,
          1.408868363392731,
          4.643691316587222,
          -1.877467363613996,
          1.432069426797405,
          1.3526270253942805,
          -0.7091148317236169,
          2.171416018304036,
          -1.976840355318579,
          -2.6007895040207627,
          -3.258007359468928,
          3.782026455580299,
          -1.9920347221454808,
          -5.015008689975809,
          1.3450204377376567,
          -2.4559688106879825,
          -1.8372816695174254,
          -4.346489712228646,
          -0.7328129161437617,
          2.3999978431542477,
          0.3930986639317597,
          -0.4123278127956356,
          -3.0499249404515107,
          -1.4425637316071498,
          0.08318610261284688,
          7.0933067141898425,
          -3.743404542996188,
          -0.9691728143622916,
          -2.4187199081229616,
          4.100787726595081,
          -0.751603005535429,
          -3.6546465282535068,
          -4.680211576012791,
          -0.5977817666137698,
          3.3873307646410953,
          6.149886189966128,
          -1.325031347042667,
          5.494152797674893,
          -2.9974032071314802,
          -4.386732721106629,
          1.2136346121479635,
          5.069661081475285,
          -1.9777014396332406,
          -2.514876418889981,
          -0.9474878917478688,
          2.8193683434660235,
          -3.4839862980200094,
          -4.658729577966202,
          -5.351618114936699,
          1.170897778905661,
          2.9563018671442056,
          -4.975702062159807,
          -4.0640256587401264,
          9.512669844166373,
          9.007165526292152,
          0.7588784847611902,
          -2.65935961535329,
          -0.3900189810589336,
          -3.8890655271867454,
          0.36487615184078825,
          -2.8358909181565166,
          -3.3102836207395554,
          -3.3573044025552767,
          6.5231166202928055,
          -1.717735176107813,
          -5.565735898981026,
          1.7796614892324152,
          2.6114848931603194,
          -2.8190385096119353,
          2.498438877724042,
          1.2770271752992852,
          3.4731973428500815,
          1.256675111985392,
          -1.4734313692162895,
          1.6494606959340852,
          9.036589480305137,
          4.554590064788183,
          -0.7811899668984522,
          -0.223092606783954,
          -3.454895386095858,
          0.4465443964174306,
          0.31443822596142734,
          -2.0591919425453877,
          4.808969244731831,
          -2.998710528238181,
          12.285019759541216,
          3.37219659064369,
          2.5087663116226566,
          1.3180684765426622,
          -0.38875629875556034,
          -2.7569329912570093,
          4.943581014506692,
          4.298077329827904,
          -2.3735018019750105,
          -0.9671903116027145,
          -2.9757987879408865,
          1.8032470204667321,
          -2.4783595123721605,
          -0.826039292437494,
          -3.894697328339562,
          -0.38957809021745593,
          -1.4573213567984904,
          2.7555680011537054,
          3.2572546734787595,
          -4.019140240564283,
          -3.6764132931674136,
          3.3163241134467683,
          -4.03660736175792,
          -2.3342333502301877,
          8.40384711345753,
          2.6475686330837074,
          -0.6817688659204805,
          3.350295790635304,
          -2.227720518819714,
          -4.47758465573046,
          1.322621418838963,
          -1.8500898601405922,
          3.7955656418249184,
          -2.2813180992394404,
          -3.2287701182773425,
          1.0259007876487047,
          -2.582555837281645,
          -2.4858832255063352,
          7.143842039052824,
          -3.0324811407726524,
          7.085010648787692,
          1.3140990035988174,
          3.711649514779838,
          0.4604790908477293,
          6.392649920534825,
          5.2555449497782,
          8.733861502953792,
          3.6913178802284663,
          3.3782508726959057,
          -0.8402096538368888,
          3.2843726199731913,
          -1.9087689281363565,
          1.614781925355987,
          6.6197263468370116,
          -1.4646759334588804,
          -2.0121524285187875,
          -2.284340252070611,
          -0.7397430856449427,
          -4.5065625106815554,
          -3.158754301407417,
          7.67614947166961,
          -3.6391359671593917,
          0.33734549264391755,
          -1.276583379151575,
          -4.346014054230507,
          0.017430791487431724,
          -3.4924260372868603,
          -1.8665488536842267,
          4.9602681178279875,
          -2.4707226852233335,
          3.7850601029234725,
          2.637255777272107,
          -1.3726850236666739,
          -4.138882573259105,
          -0.6869402913907463,
          -4.312129582742926,
          0.403309421376408,
          -3.003605795321373,
          3.134008205440253,
          -0.4178368668818385,
          -1.420223135082023,
          -2.8705883477861227,
          -3.3658457040714147,
          -3.3150001548360466,
          -4.769710159700072,
          -2.3858827584205597,
          -2.787096009431136,
          -3.3938417715184355,
          6.590235943344478,
          -1.4553305178966995,
          7.182933102086218,
          -3.5788354034470147,
          -3.0570326418735565,
          -3.0744358315609097,
          -3.8535397332557,
          -5.390256393774126,
          -4.65768233449478,
          -4.0275423881080545,
          -3.347821941610167,
          -3.299842011468283,
          -2.136404142351124,
          -4.038017141737004,
          -3.765414553258651,
          -4.871239383480907,
          -4.747248516354667,
          1.8953162763188658,
          1.5729311406088375,
          -4.026620252659336,
          -1.2948661700949542,
          1.8348404671476852,
          -1.81038055889126,
          7.236485314392073,
          -3.145650188521119,
          -2.887268058239533,
          -3.1496539838208824,
          -4.628379483050114,
          2.2505103740996195,
          2.1078012278782223,
          1.7859499803192085,
          -0.5276966174016368,
          -3.2135009805008816,
          -4.386422966517987,
          -3.8100178698306184,
          3.319673971520059,
          -2.393275964330104,
          4.680166262400337,
          -3.0676951406047155,
          7.353218575027929,
          0.2953131832477852,
          -1.938969496946813,
          -2.077178921430966,
          4.975162358415046,
          -2.176916879584218,
          -2.4315514550089854,
          -3.3679657788780735,
          -1.206597790512642,
          -3.3260792487089357,
          -1.9287954022353078,
          -4.0418350899545405,
          6.182283741692217,
          10.934298158426797,
          2.1184969319276283,
          -3.012194970158466,
          -0.9826485812696195,
          0.3578938625182223,
          -3.19391786550567,
          -2.9932333012445858,
          -3.1939141504686117,
          -4.591961853505523,
          -2.4859161544122794,
          -2.398665346211346,
          -0.7796151997478861,
          -3.139988425752801,
          2.735011771675508,
          6.22702598868935,
          -2.223775745579279,
          5.307140022001365,
          7.248001061273661,
          4.207220618955481,
          -2.499636374112171,
          3.635014946683069,
          3.5192482750135765,
          -2.6149483072401822,
          -0.09610811657665351,
          2.0448569345668988,
          -3.066749527557425,
          -1.603586443386116,
          3.7659321541049233,
          -0.9255666032077565,
          -3.288349594101075,
          -1.5548521496523342,
          -0.3987799175812775,
          -2.3005678213336678,
          -0.5429013641687518,
          -2.058819455829782,
          -3.4245180552309167,
          -0.4724065518531106,
          4.703500731698955,
          -3.6433802386141703,
          -3.5946893435897156,
          4.149097342448901,
          7.672141552626061,
          -2.0103794137576014,
          -2.9208334948368666,
          -0.5007378002661486,
          -1.9114985749230593,
          -3.7850992277955733,
          -2.7083939682134743,
          6.2896734695348355,
          -3.4307706912387834,
          -2.0013884663892303,
          -2.4732930942871394,
          -3.64725774639426,
          -2.346186850942432,
          -1.1429969265477071,
          -1.3508573033319238,
          2.763370786290055,
          -1.969323605036575,
          -2.931187055439887,
          -2.9263743861504348,
          -3.996188277410406,
          0.1551380594685053,
          -0.9340908103734421,
          -1.9296217302552425,
          -2.6223386017038646,
          6.003616591373251,
          -2.921877804574639,
          -3.341944803949237,
          -2.01491503341189,
          1.9884621055512148,
          -1.6696039306006403,
          -0.37117811351859265,
          -1.8489599298372161,
          -4.703042202111254,
          -1.2831871507862112,
          -2.3142468193049908,
          -4.659085176410979,
          -3.943473381734914,
          4.949858461549883,
          -0.9158035193313432,
          4.54911114662797,
          4.442342818131067,
          -2.1949843010206043,
          0.664440914691306,
          -2.2408760536431513,
          -2.125180436920096,
          -2.6153174112221906,
          -3.210967975662165,
          -0.3067503987078464,
          2.47235691677368,
          -3.4547183721129384,
          -3.9005268480585107,
          0.981727541895379,
          -1.2572515710230205,
          3.2454136489032015,
          -1.5572194125370076,
          -1.2492580966983033,
          4.331653344535951,
          -1.0774513298933308,
          2.5117531022607005,
          -2.2170923054478573,
          -1.1738306467787338,
          -2.836301444333406,
          -1.8570858988748025,
          -1.3286143729581361,
          -2.802771356776185,
          -3.174568796763778,
          -4.087077360931442,
          3.4754937481309622,
          16.319233231031948,
          -2.5601150180170174,
          -2.9688887959170334,
          -2.7574304510201473,
          1.3703398754406508,
          -0.4176644925529694,
          -3.8383986229812286,
          5.930964859583878,
          0.6454786474866466,
          -2.683846400979249,
          -2.0416640521055065,
          -1.3992963501120361,
          -3.53641529541775,
          -1.9905294465909273,
          -1.9981853671292085,
          -0.5206581123170911,
          -3.1723704882482817,
          -2.202710189056678,
          3.824433042941054,
          -2.985484690326417,
          -2.4810551072776925,
          -1.2721114612782325,
          -2.2351568880780976,
          -0.05618310431179024,
          2.317390606280681,
          -2.2843312608519,
          4.7546148706687825,
          -1.7263109176879674,
          -0.7417817670630814,
          -2.8943106610119176,
          -1.654521845920777,
          3.1035197039278755,
          -4.064270597765422,
          -2.7933306574629757,
          -1.4749199376087514,
          -0.22939463704330068,
          -2.55325840761349,
          3.7157051034634407,
          5.0948418437966145,
          -0.6006161135560713,
          2.790399829433839,
          -1.408771214399059,
          7.2591788407931395,
          1.2988665487860982,
          1.0766932756334409,
          -1.2497605247721377,
          -1.2569284056189354,
          -1.1665352144775918,
          4.094142557240372,
          -1.8876392413594894,
          -2.76743570284606,
          2.2269944892059623,
          -1.1315768907450503,
          -0.7337724522411302,
          -2.333670736811428,
          2.697223754399556,
          3.379014667722385,
          -0.19987058014158257,
          -1.1760259132353217,
          -1.2926365392815422,
          8.63075585909604,
          -4.4294563710657915,
          -0.6198387404460758,
          -3.2523157686120325,
          -3.3529270535365336,
          -0.8598029860025644,
          -3.1566219686828116,
          0.3465281132085335,
          -2.461406650924507,
          -1.530100721587422,
          -1.773585066060574,
          -2.680441623965852,
          4.028435261074215,
          -2.136351228598884,
          5.165410948305095,
          0.5359319494274586,
          0.3431233829428982,
          -4.197079986345926,
          -1.1428318645967035,
          -1.6654751532170935,
          1.011712495730064,
          -1.3009297119683614,
          -2.3734287250096875,
          -1.6658710117954625,
          -1.9276781923709867,
          -4.237216617940876,
          -2.6778707208422547,
          -3.836497851795801,
          -2.5514402959502105,
          -4.694923445156818,
          -2.025037164127087,
          -2.8959482055188177,
          -3.5022010405438153,
          -2.1539036673960386,
          -2.055084067991238,
          -3.877289579397902,
          -4.063862114728151,
          -0.09866733268852466,
          -1.0893761900701144,
          -0.48177096484746385,
          -4.870309518087046,
          5.917612589142542,
          8.741338077267695,
          6.439315483954048,
          3.793382370032773,
          1.2561792761501875,
          10.37479405976967,
          -5.475243302544437
         ],
         "xaxis": "x",
         "y": [
          1.9485830708132126,
          -3.7681717422525134,
          -1.0751737966357044,
          10.275589121743316,
          -1.9480715677862304,
          3.9499288955354435,
          -2.690031277381241,
          2.340244006913588,
          3.3918129519498903,
          7.727174066815057,
          -2.659275497823007,
          0.06656792647511303,
          2.7009764924321704,
          -0.9682792607691,
          4.86108331258193,
          2.977061180395717,
          -1.5647577254223726,
          1.4186703334069137,
          -4.114333525096764,
          -0.18821495378199163,
          0.5728081925870397,
          1.6629499036423177,
          3.3049637283863667,
          -5.1283665141110175,
          -1.5437522882851167,
          2.0186103371096205,
          2.1716251156529522,
          -1.8765523477431676,
          0.5372421605768445,
          -1.5237050229806213,
          -0.7571774507947655,
          4.005295512260853,
          0.3375361539986425,
          -1.132588905638789,
          0.7584232424518329,
          -0.35435594259172104,
          0.9131962762252115,
          -1.4134731176884225,
          -3.351292923115743,
          0.886243952897515,
          -1.923991615820712,
          2.260752006170726,
          2.0186730993297495,
          0.9849300203710979,
          -0.13709909082887348,
          -0.13487697770411106,
          1.4842203178333324,
          2.3522717935670663,
          0.09582960950558458,
          -1.2084332138024545,
          -1.2824955784173317,
          -1.6889585955788011,
          -0.49821871411592833,
          -1.1309378049152063,
          -2.1164097169234575,
          0.15272313624002995,
          -2.310332570441096,
          0.9721160459693393,
          -1.7876416504192276,
          2.4037924853846317,
          2.7576581296900105,
          3.138671922763401,
          3.0116805065487298,
          3.2679896792153738,
          1.540676557047401,
          0.7227401912115572,
          2.3106487122196606,
          -0.6583094692177516,
          9.202525685629741,
          -0.9378381203310063,
          -4.437141769642553,
          7.387812177049782,
          0.9383254151017497,
          0.11973908637489036,
          -0.6973093686044676,
          -1.967101411918391,
          1.9656048644216977,
          0.9200695426693297,
          4.7486172026397115,
          -0.2548998339686796,
          1.7159491138185967,
          2.514515850016415,
          -2.2579828979559085,
          0.7744091563152944,
          0.4968779847625498,
          -1.6682370622258058,
          0.16221452493002902,
          -2.206661839220303,
          0.9277014808965309,
          1.015577070287454,
          -1.619656828361759,
          -0.5313515471057105,
          -2.8936475984617416,
          -0.9651569880984322,
          0.5580005268712211,
          -2.1235077122123363,
          0.21363392991023922,
          1.1900666337405694,
          0.3678839812688727,
          0.6389116689429717,
          -1.392044298745039,
          3.5287860178753525,
          -1.4246224557449632,
          1.8493736050684038,
          1.4200617400177669,
          4.046756222576179,
          1.7976385170372926,
          -1.035749426802266,
          0.9815132265654608,
          0.6674106363570617,
          2.598686268031741,
          2.2801435369104373,
          3.9263331553348704,
          3.556225100536648,
          3.2513195034622306,
          0.30488486676682003,
          3.6670958837725385,
          1.569389556147796,
          2.3848462187269193,
          -2.3067353676959077,
          0.37150648219624177,
          -1.3255573542682737,
          2.316622464652222,
          -0.0641092200280564,
          -0.7356052301420554,
          -1.8774090266514094,
          -0.9113660288384147,
          -3.5380823684372773,
          1.3049294064577113,
          -1.4820171692234472,
          1.423230643967799,
          -1.0496039490471432,
          -1.1541414717245657,
          -1.5682323235242241,
          -2.826260726206561,
          -0.4193874469917024,
          -0.4823354676302401,
          -0.4183214056514841,
          0.8603815974909361,
          1.3293551725751729,
          0.5746999790562584,
          -1.2747709560775549,
          0.8984552922864141,
          -0.09102676546267313,
          -0.8935722661582778,
          3.7021823827889815,
          4.837988819680842,
          1.0830680629038978,
          -0.38963131708147436,
          -2.237784522215417,
          0.3058704495293437,
          7.150359799918429,
          12.573194228024406,
          0.2505015267836383,
          0.9449443022762136,
          0.005552412985257126,
          -0.3788038200490195,
          -3.0706486584920714,
          -0.6746487418952004,
          -1.1038572476530208,
          1.7856508751051785,
          -2.9110371071744967,
          -2.0176527548206304,
          1.4692940245384853,
          -4.1658293056637925,
          -2.7388610518701735,
          0.006872281310549576,
          -2.03903895745167,
          -1.785152334193196,
          -1.842779420627659,
          0.11425229887835504,
          -1.6847535465268948,
          1.2651031321929216,
          1.6196919825665892,
          -0.22291481494383802,
          1.0267578586999089,
          7.014486578427305,
          0.7064218521348695,
          -3.386204867326663,
          -1.2461661742155221,
          -5.603484192747996,
          0.5810310774412656,
          -1.6085325757913183,
          0.5399358008984668,
          -0.9892423529130299,
          0.8160717107429254,
          -3.5744612259649116,
          -0.3987296940149042,
          0.155741194896786,
          -1.1037324234507593,
          8.011169611585354,
          -0.5431655273197247,
          -0.477847578870821,
          2.7765871696073576,
          1.5614217093765685,
          -0.9701105669661967,
          2.2784828520257925,
          -2.4432589642176983,
          -2.277848910058591,
          0.3823932642825365,
          0.11689025649557706,
          -2.102291070668329,
          -0.6551728249743148,
          3.086639155717292,
          0.6528492587552837,
          -0.7018214903038656,
          1.3069387228608884,
          -2.7877077407965065,
          2.0775607279647597,
          -2.4727877878098825,
          -3.029102967390883,
          -0.396778028238085,
          -7.543410169044372,
          2.5878254279750457,
          2.61464847742042,
          2.1544795010825566,
          2.276797894673042,
          1.086834685447159,
          -2.848324457818621,
          -4.666275179192071,
          -0.7334025639813603,
          0.4384381816940504,
          1.8109737757082902,
          0.1664609571501366,
          -1.418576446933305,
          -1.2502474730649806,
          0.5385707445191444,
          -0.6144154699686285,
          -0.20172675700130288,
          3.4657736038780316,
          -0.1252004919675752,
          -1.3542473808451163,
          -1.291629060262153,
          -3.9391522592507298,
          1.1625461078959356,
          -1.3489797322413912,
          -4.153904776655333,
          -3.9511729515816096,
          -1.1359911305249373,
          -2.154570026520721,
          -1.2149996867839548,
          -1.7411293624873463,
          4.789476583835552,
          -1.5841281495702573,
          -1.0262326418733796,
          2.0776859795990923,
          -1.1720734787390472,
          2.361261944371915,
          0.7292131140363165,
          0.4605964026685489,
          -2.074842232523416,
          -0.6494687997886396,
          0.5282231716188251,
          -1.775425831334452,
          -2.8074771107417504,
          0.3941662885549636,
          -1.8230941631853845,
          3.8945309898679614,
          3.2798773752019836,
          1.0656460674765162,
          -3.371227892075311,
          -3.500085032236646,
          -0.9906732009895998,
          -3.1219458055037923,
          -2.474573347957328,
          -6.003276417737879,
          1.6866318142797152,
          -1.1034865581231048,
          0.009493639156780519,
          3.152520605061335,
          -3.169272587845629,
          0.4103017949715996,
          -3.0753063039572908,
          1.589587063977565,
          -3.1443734577538764,
          0.849052983501654,
          -0.32197805677982044,
          -3.459343291244642,
          -2.6340824007684653,
          -0.9020642096629325,
          -1.341123047415548,
          -0.1380262643822822,
          -1.9019074163410696,
          0.5771549959875397,
          0.005805461492564485,
          -1.3765082402522602,
          1.695009624575101,
          -1.9784861330340207,
          3.723434003735217,
          0.3541602273914167,
          4.273459558165755,
          -0.8085765710673541,
          1.3939781130508557,
          -0.26864450917899957,
          -0.8076006153016811,
          -1.442176229482564,
          -0.5429618596399651,
          -0.8241155709536405,
          -2.533034002912913,
          0.7539639571738539,
          -1.4848624499791685,
          0.591942867818677,
          0.055146060235921314,
          0.8915829915983913,
          -0.17921338619193503,
          -0.3060584353999549,
          -1.5247264226053243,
          0.5562555046472222,
          -3.0653874336636378,
          -2.542907043458892,
          -0.06856304786703574,
          -3.138709394216835,
          -0.004392848654216894,
          -0.240698054355585,
          4.398200493318927,
          -2.339214787366958,
          -1.7984019754538472,
          -2.392238003074377,
          6.509099306951596,
          -1.4022064621644579,
          3.470808639267759,
          -4.321522964458437,
          0.3962073021620413,
          -0.03570179721081944,
          -0.742526542014102,
          -0.46473162451083955,
          -1.7712483966071144,
          -1.8356183618406279,
          -0.3485359404026576,
          1.1219739435200784,
          -0.2692216356637505,
          1.2658716232777043,
          1.1034431418037465,
          -0.7611037296230404,
          -0.9099185549522866,
          -1.5770528425128403,
          0.9900307776839652,
          -0.9685929541391962,
          1.1358375683612334,
          -5.2426231426182826,
          0.2269350361747232,
          2.544988112574304,
          1.8065194888246887,
          -1.3325721797358039,
          0.9589112593963671,
          3.447203866753099,
          -0.5629288977826485,
          -1.3170443382715993,
          0.4751715814863483,
          1.4614697976427895,
          -1.3569174566682873,
          5.108005449597041,
          -3.703254080424115,
          0.296629069511516,
          0.24375997575282557,
          0.7972523939836016,
          2.12783863197142,
          -1.849152073326572,
          1.6313922060313557,
          0.5793394420838488,
          -2.7611270971528996,
          -1.188939404386469,
          -0.2507447903311434,
          -2.1243434274457487,
          -1.4880221619962253,
          -3.94516823053259,
          -1.3901096910698005,
          -0.35716071080094114,
          -6.723414983755273,
          -3.6554691294531922,
          1.1762428817926889,
          -2.0185356267796104,
          -1.9564409103749603,
          -3.8586071202175263,
          -1.1024744593759774,
          -0.12984758282025582,
          6.426819839242598,
          -2.182095699765766,
          0.2925962223446961,
          5.9852953484873215,
          2.3024814302820413,
          0.20131133647971775,
          0.9798577294049002,
          2.1612126917983283,
          -0.9320775839935365,
          -1.3170679102026435,
          0.320435145815111,
          -2.4455184118091573,
          3.7028294385527953,
          -0.19595575498498863,
          0.7868599164138641,
          2.6050872167142374,
          0.767488844291832,
          -0.8604841505479837,
          0.429689560546818,
          -1.7004724750166198,
          0.10673146469928374,
          -0.6513938797693879,
          -0.3261463675177009,
          -0.21966574166566435,
          2.03654739736416,
          -0.992610034904186,
          -0.2933264633760708,
          -0.33504702651133444,
          -1.241365125115582,
          0.6827413169052379,
          -1.962171494027321,
          0.36957390196474665,
          -1.0786335090272414,
          -0.17584850852830936,
          -0.4948562292642753,
          0.37733225706340223,
          0.959856089825474,
          -0.4380082282506179,
          -2.105945591168641,
          0.8924666901446934,
          2.502101617885016,
          -0.09102922223566924,
          -0.009212681227707166,
          -0.02222473048998366,
          0.778452131321232,
          2.3160480541471764,
          0.862318852733205,
          0.11361265875751815,
          2.541229649224282,
          -0.4323024307048093,
          2.5509093102421017,
          0.4020314772654801,
          -0.7822987564280806,
          -2.030016286956436,
          3.006064129476642,
          2.4790131287030026,
          -0.8160005055737881,
          -0.9924388979656312,
          -1.8053532377303276,
          0.4368608555904373,
          -0.454589511426858,
          -1.1947969118361614,
          -1.8320604326346996,
          -2.2351427041454053,
          2.1849988333574295,
          -1.4998247517098127,
          -2.1364615480855536,
          0.7307759702481277,
          -2.2104299470952173,
          1.067691514993082,
          -1.778358632218783,
          -1.0379271064082627,
          -1.5888387893172387,
          -4.049332418385722,
          1.8036181631456147,
          -2.5288075833239296,
          0.029891288112427465,
          -0.47483950505006167,
          -1.0181258063581804,
          -1.5713931191061394,
          0.7770956606261697,
          -1.6663016342407622,
          -2.0757336193340463,
          -0.48471007927108584,
          -1.6728843913440685,
          -7.775852804209225,
          -2.4940454474189124,
          -0.06884713573316759,
          -1.7939187680834534,
          2.1100113491062658,
          0.11651969713913522,
          0.8991786485514185,
          1.2282966822451769,
          3.4260114209560184,
          1.443555528947839,
          -0.9032559294489108,
          -1.7722262453444595,
          -1.2468541534776634,
          1.8994625507690952,
          -0.20637113649304134,
          -0.9733678106390489,
          -2.0890522979842565,
          1.2860393186101273,
          2.305236316510406,
          -0.6733392441767951,
          -2.3639587605357018,
          0.5098338482740467,
          -1.2987044936799674,
          -0.22738339288948267,
          4.389134334885275,
          -2.466840756398974,
          -1.4894235604169979,
          0.9981778353613746,
          -2.452034966203205,
          -0.9779443192627285,
          -4.555664122461813,
          -1.236153211368329,
          -0.5609542217541584,
          -1.0778881330993844,
          -1.5910942013930784,
          1.5159034180290096,
          -0.7639004851848028,
          -1.0586862195576958,
          -2.019207834001607,
          -0.8384546629021619,
          3.385560771760787,
          1.5057705921564681,
          -5.495735719410445,
          7.729852801503283,
          8.294775448814562,
          1.5956838546189327,
          4.1171866814229165,
          -1.6656937357498574,
          2.8029272496059576,
          1.672191738716779,
          -2.1610487950052732,
          1.9416347590189813,
          -1.4110019653785169,
          -1.9436971833961223,
          0.7901466073455073,
          -1.9437099457571254,
          -2.333428944959089,
          1.076360003188004,
          1.0113701777223771,
          4.964224702106051,
          -3.4594519150666527,
          -0.7860360356855184,
          0.6363492700467857,
          1.2859251612560714,
          2.67330059764769,
          0.096848522554462,
          -0.8715426236760799,
          1.5412252756473706,
          0.600847969236432,
          0.4052177892643257,
          0.8042100123898102,
          -1.4847089005436969,
          -2.9414300980070998,
          1.5185806390329424,
          -2.382203231396935,
          0.38071514566373404,
          3.534481051981082,
          2.3673922830447927,
          5.599458470378993,
          2.3896181248162573,
          1.0923896495817598,
          -1.8214153018247943,
          -1.6815762381050987,
          -0.21396274003901264,
          -1.1377399160396742,
          0.18427249698247128,
          2.3157928229407863,
          0.4962499285105804,
          0.22832995746532567,
          -0.7674779439082271,
          1.2612419002483992,
          -1.4516357643376918,
          1.8008324922640246,
          -0.8300688183706623,
          1.6164592679825684,
          1.0842547446240676,
          0.12216843530980138,
          -0.21355983821377228,
          1.292847898237227,
          -0.1780196911070373,
          -2.1311061074568447,
          3.482636659225506,
          -0.5738546722795048,
          -3.5768174440181424,
          -3.584047863994837,
          -1.9022967129987731,
          1.672010105538802,
          -0.6706367906359177
         ],
         "yaxis": "y"
        }
       ],
       "layout": {
        "annotations": [
         {
          "arrowhead": 2,
          "arrowsize": 2,
          "ax": 0,
          "axref": "x",
          "ay": 0,
          "ayref": "y",
          "showarrow": true,
          "x": 0.7984687047034016,
          "xanchor": "right",
          "y": -0.5583935681175114,
          "yanchor": "top"
         },
         {
          "ax": 0,
          "ay": 0,
          "text": "mean radius",
          "x": 0.7984687047034016,
          "xanchor": "center",
          "y": -0.5583935681175114,
          "yanchor": "bottom",
          "yshift": 5
         },
         {
          "arrowhead": 2,
          "arrowsize": 2,
          "ax": 0,
          "axref": "x",
          "ay": 0,
          "ayref": "y",
          "showarrow": true,
          "x": 0.3783458430793194,
          "xanchor": "right",
          "y": -0.14256351914248738,
          "yanchor": "top"
         },
         {
          "ax": 0,
          "ay": 0,
          "text": "mean texture",
          "x": 0.3783458430793194,
          "xanchor": "center",
          "y": -0.14256351914248738,
          "yanchor": "bottom",
          "yshift": 5
         },
         {
          "arrowhead": 2,
          "arrowsize": 2,
          "ax": 0,
          "axref": "x",
          "ay": 0,
          "ayref": "y",
          "showarrow": true,
          "x": 0.8299651869894503,
          "xanchor": "right",
          "y": -0.5138004014875899,
          "yanchor": "top"
         },
         {
          "ax": 0,
          "ay": 0,
          "text": "mean perimeter",
          "x": 0.8299651869894503,
          "xanchor": "center",
          "y": -0.5138004014875899,
          "yanchor": "bottom",
          "yshift": 5
         },
         {
          "arrowhead": 2,
          "arrowsize": 2,
          "ax": 0,
          "axref": "x",
          "ay": 0,
          "ayref": "y",
          "showarrow": true,
          "x": 0.8061014612010782,
          "xanchor": "right",
          "y": -0.5517546048670178,
          "yanchor": "top"
         },
         {
          "ax": 0,
          "ay": 0,
          "text": "mean area",
          "x": 0.8061014612010782,
          "xanchor": "center",
          "y": -0.5517546048670178,
          "yanchor": "bottom",
          "yshift": 5
         },
         {
          "arrowhead": 2,
          "arrowsize": 2,
          "ax": 0,
          "axref": "x",
          "ay": 0,
          "ayref": "y",
          "showarrow": true,
          "x": 0.5201102675487039,
          "xanchor": "right",
          "y": 0.44439232631289655,
          "yanchor": "top"
         },
         {
          "ax": 0,
          "ay": 0,
          "text": "mean smoothness",
          "x": 0.5201102675487039,
          "xanchor": "center",
          "y": 0.44439232631289655,
          "yanchor": "bottom",
          "yshift": 5
         },
         {
          "arrowhead": 2,
          "arrowsize": 2,
          "ax": 0,
          "axref": "x",
          "ay": 0,
          "ayref": "y",
          "showarrow": true,
          "x": 0.8728174222083598,
          "xanchor": "right",
          "y": 0.3626799725269668,
          "yanchor": "top"
         },
         {
          "ax": 0,
          "ay": 0,
          "text": "mean compactness",
          "x": 0.8728174222083598,
          "xanchor": "center",
          "y": 0.3626799725269668,
          "yanchor": "bottom",
          "yshift": 5
         },
         {
          "arrowhead": 2,
          "arrowsize": 2,
          "ax": 0,
          "axref": "x",
          "ay": 0,
          "ayref": "y",
          "showarrow": true,
          "x": 0.9425417737236499,
          "xanchor": "right",
          "y": 0.14366015421507708,
          "yanchor": "top"
         },
         {
          "ax": 0,
          "ay": 0,
          "text": "mean concavity",
          "x": 0.9425417737236499,
          "xanchor": "center",
          "y": 0.14366015421507708,
          "yanchor": "bottom",
          "yshift": 5
         },
         {
          "arrowhead": 2,
          "arrowsize": 2,
          "ax": 0,
          "axref": "x",
          "ay": 0,
          "ayref": "y",
          "showarrow": true,
          "x": 0.9514903491014505,
          "xanchor": "right",
          "y": -0.08301627797095303,
          "yanchor": "top"
         },
         {
          "ax": 0,
          "ay": 0,
          "text": "mean concave points",
          "x": 0.9514903491014505,
          "xanchor": "center",
          "y": -0.08301627797095303,
          "yanchor": "bottom",
          "yshift": 5
         },
         {
          "arrowhead": 2,
          "arrowsize": 2,
          "ax": 0,
          "axref": "x",
          "ay": 0,
          "ayref": "y",
          "showarrow": true,
          "x": 0.5039778961041871,
          "xanchor": "right",
          "y": 0.4545062546570714,
          "yanchor": "top"
         },
         {
          "ax": 0,
          "ay": 0,
          "text": "mean symmetry",
          "x": 0.5039778961041871,
          "xanchor": "center",
          "y": 0.4545062546570714,
          "yanchor": "bottom",
          "yshift": 5
         },
         {
          "arrowhead": 2,
          "arrowsize": 2,
          "ax": 0,
          "axref": "x",
          "ay": 0,
          "ayref": "y",
          "showarrow": true,
          "x": 0.23477178664244566,
          "xanchor": "right",
          "y": 0.8752924656086324,
          "yanchor": "top"
         },
         {
          "ax": 0,
          "ay": 0,
          "text": "mean fractal dimension",
          "x": 0.23477178664244566,
          "xanchor": "center",
          "y": 0.8752924656086324,
          "yanchor": "bottom",
          "yshift": 5
         },
         {
          "arrowhead": 2,
          "arrowsize": 2,
          "ax": 0,
          "axref": "x",
          "ay": 0,
          "ayref": "y",
          "showarrow": true,
          "x": 0.7513283249543482,
          "xanchor": "right",
          "y": -0.25203269295323855,
          "yanchor": "top"
         },
         {
          "ax": 0,
          "ay": 0,
          "text": "radius error",
          "x": 0.7513283249543482,
          "xanchor": "center",
          "y": -0.25203269295323855,
          "yanchor": "bottom",
          "yshift": 5
         },
         {
          "arrowhead": 2,
          "arrowsize": 2,
          "ax": 0,
          "axref": "x",
          "ay": 0,
          "ayref": "y",
          "showarrow": true,
          "x": 0.06357048750309231,
          "xanchor": "right",
          "y": 0.2148494476872454,
          "yanchor": "top"
         },
         {
          "ax": 0,
          "ay": 0,
          "text": "texture error",
          "x": 0.06357048750309231,
          "xanchor": "center",
          "y": 0.2148494476872454,
          "yanchor": "bottom",
          "yshift": 5
         },
         {
          "arrowhead": 2,
          "arrowsize": 2,
          "ax": 0,
          "axref": "x",
          "ay": 0,
          "ayref": "y",
          "showarrow": true,
          "x": 0.7708325584060092,
          "xanchor": "right",
          "y": -0.21360197072896228,
          "yanchor": "top"
         },
         {
          "ax": 0,
          "ay": 0,
          "text": "perimeter error",
          "x": 0.7708325584060092,
          "xanchor": "center",
          "y": -0.21360197072896228,
          "yanchor": "bottom",
          "yshift": 5
         },
         {
          "arrowhead": 2,
          "arrowsize": 2,
          "ax": 0,
          "axref": "x",
          "ay": 0,
          "ayref": "y",
          "showarrow": true,
          "x": 0.7399874222351948,
          "xanchor": "right",
          "y": -0.36363750538706896,
          "yanchor": "top"
         },
         {
          "ax": 0,
          "ay": 0,
          "text": "area error",
          "x": 0.7399874222351948,
          "xanchor": "center",
          "y": -0.36363750538706896,
          "yanchor": "bottom",
          "yshift": 5
         },
         {
          "arrowhead": 2,
          "arrowsize": 2,
          "ax": 0,
          "axref": "x",
          "ay": 0,
          "ayref": "y",
          "showarrow": true,
          "x": 0.053004934882518916,
          "xanchor": "right",
          "y": 0.4881298647891835,
          "yanchor": "top"
         },
         {
          "ax": 0,
          "ay": 0,
          "text": "smoothness error",
          "x": 0.053004934882518916,
          "xanchor": "center",
          "y": 0.4881298647891835,
          "yanchor": "bottom",
          "yshift": 5
         },
         {
          "arrowhead": 2,
          "arrowsize": 2,
          "ax": 0,
          "axref": "x",
          "ay": 0,
          "ayref": "y",
          "showarrow": true,
          "x": 0.621527270211832,
          "xanchor": "right",
          "y": 0.5556685770530428,
          "yanchor": "top"
         },
         {
          "ax": 0,
          "ay": 0,
          "text": "compactness error",
          "x": 0.621527270211832,
          "xanchor": "center",
          "y": 0.5556685770530428,
          "yanchor": "bottom",
          "yshift": 5
         },
         {
          "arrowhead": 2,
          "arrowsize": 2,
          "ax": 0,
          "axref": "x",
          "ay": 0,
          "ayref": "y",
          "showarrow": true,
          "x": 0.560234223046259,
          "xanchor": "right",
          "y": 0.4708827027358326,
          "yanchor": "top"
         },
         {
          "ax": 0,
          "ay": 0,
          "text": "concavity error",
          "x": 0.560234223046259,
          "xanchor": "center",
          "y": 0.4708827027358326,
          "yanchor": "bottom",
          "yshift": 5
         },
         {
          "arrowhead": 2,
          "arrowsize": 2,
          "ax": 0,
          "axref": "x",
          "ay": 0,
          "ayref": "y",
          "showarrow": true,
          "x": 0.6690334237416116,
          "xanchor": "right",
          "y": 0.31117597438519595,
          "yanchor": "top"
         },
         {
          "ax": 0,
          "ay": 0,
          "text": "concave points error",
          "x": 0.6690334237416116,
          "xanchor": "center",
          "y": 0.31117597438519595,
          "yanchor": "bottom",
          "yshift": 5
         },
         {
          "arrowhead": 2,
          "arrowsize": 2,
          "ax": 0,
          "axref": "x",
          "ay": 0,
          "ayref": "y",
          "showarrow": true,
          "x": 0.1550172720765793,
          "xanchor": "right",
          "y": 0.43898400665993353,
          "yanchor": "top"
         },
         {
          "ax": 0,
          "ay": 0,
          "text": "symmetry error",
          "x": 0.1550172720765793,
          "xanchor": "center",
          "y": 0.43898400665993353,
          "yanchor": "bottom",
          "yshift": 5
         },
         {
          "arrowhead": 2,
          "arrowsize": 2,
          "ax": 0,
          "axref": "x",
          "ay": 0,
          "ayref": "y",
          "showarrow": true,
          "x": 0.3741282824576168,
          "xanchor": "right",
          "y": 0.6687911759243116,
          "yanchor": "top"
         },
         {
          "ax": 0,
          "ay": 0,
          "text": "fractal dimension error",
          "x": 0.3741282824576168,
          "xanchor": "center",
          "y": 0.6687911759243116,
          "yanchor": "bottom",
          "yshift": 5
         },
         {
          "arrowhead": 2,
          "arrowsize": 2,
          "ax": 0,
          "axref": "x",
          "ay": 0,
          "ayref": "y",
          "showarrow": true,
          "x": 0.8316406803654873,
          "xanchor": "right",
          "y": -0.5249870770653162,
          "yanchor": "top"
         },
         {
          "ax": 0,
          "ay": 0,
          "text": "worst radius",
          "x": 0.8316406803654873,
          "xanchor": "center",
          "y": -0.5249870770653162,
          "yanchor": "bottom",
          "yshift": 5
         },
         {
          "arrowhead": 2,
          "arrowsize": 2,
          "ax": 0,
          "axref": "x",
          "ay": 0,
          "ayref": "y",
          "showarrow": true,
          "x": 0.381062383631321,
          "xanchor": "right",
          "y": -0.10856477510107261,
          "yanchor": "top"
         },
         {
          "ax": 0,
          "ay": 0,
          "text": "worst texture",
          "x": 0.381062383631321,
          "xanchor": "center",
          "y": -0.10856477510107261,
          "yanchor": "bottom",
          "yshift": 5
         },
         {
          "arrowhead": 2,
          "arrowsize": 2,
          "ax": 0,
          "axref": "x",
          "ay": 0,
          "ayref": "y",
          "showarrow": true,
          "x": 0.86316706277686,
          "xanchor": "right",
          "y": -0.4772607434891297,
          "yanchor": "top"
         },
         {
          "ax": 0,
          "ay": 0,
          "text": "worst perimeter",
          "x": 0.86316706277686,
          "xanchor": "center",
          "y": -0.4772607434891297,
          "yanchor": "bottom",
          "yshift": 5
         },
         {
          "arrowhead": 2,
          "arrowsize": 2,
          "ax": 0,
          "axref": "x",
          "ay": 0,
          "ayref": "y",
          "showarrow": true,
          "x": 0.8202379103831043,
          "xanchor": "right",
          "y": -0.5237585260029068,
          "yanchor": "top"
         },
         {
          "ax": 0,
          "ay": 0,
          "text": "worst area",
          "x": 0.8202379103831043,
          "xanchor": "center",
          "y": -0.5237585260029068,
          "yanchor": "bottom",
          "yshift": 5
         },
         {
          "arrowhead": 2,
          "arrowsize": 2,
          "ax": 0,
          "axref": "x",
          "ay": 0,
          "ayref": "y",
          "showarrow": true,
          "x": 0.46671985050637554,
          "xanchor": "right",
          "y": 0.4114206011205909,
          "yanchor": "top"
         },
         {
          "ax": 0,
          "ay": 0,
          "text": "worst smoothness",
          "x": 0.46671985050637554,
          "xanchor": "center",
          "y": 0.4114206011205909,
          "yanchor": "bottom",
          "yshift": 5
         },
         {
          "arrowhead": 2,
          "arrowsize": 2,
          "ax": 0,
          "axref": "x",
          "ay": 0,
          "ayref": "y",
          "showarrow": true,
          "x": 0.7663458774496028,
          "xanchor": "right",
          "y": 0.3428653374059323,
          "yanchor": "top"
         },
         {
          "ax": 0,
          "ay": 0,
          "text": "worst compactness",
          "x": 0.7663458774496028,
          "xanchor": "center",
          "y": 0.3428653374059323,
          "yanchor": "bottom",
          "yshift": 5
         },
         {
          "arrowhead": 2,
          "arrowsize": 2,
          "ax": 0,
          "axref": "x",
          "ay": 0,
          "ayref": "y",
          "showarrow": true,
          "x": 0.8344526105671394,
          "xanchor": "right",
          "y": 0.23391431744251692,
          "yanchor": "top"
         },
         {
          "ax": 0,
          "ay": 0,
          "text": "worst concavity",
          "x": 0.8344526105671394,
          "xanchor": "center",
          "y": 0.23391431744251692,
          "yanchor": "bottom",
          "yshift": 5
         },
         {
          "arrowhead": 2,
          "arrowsize": 2,
          "ax": 0,
          "axref": "x",
          "ay": 0,
          "ayref": "y",
          "showarrow": true,
          "x": 0.9151318417496818,
          "xanchor": "right",
          "y": -0.019716255472971757,
          "yanchor": "top"
         },
         {
          "ax": 0,
          "ay": 0,
          "text": "worst concave points",
          "x": 0.9151318417496818,
          "xanchor": "center",
          "y": -0.019716255472971757,
          "yanchor": "bottom",
          "yshift": 5
         },
         {
          "arrowhead": 2,
          "arrowsize": 2,
          "ax": 0,
          "axref": "x",
          "ay": 0,
          "ayref": "y",
          "showarrow": true,
          "x": 0.4483067446599848,
          "xanchor": "right",
          "y": 0.33878269475509826,
          "yanchor": "top"
         },
         {
          "ax": 0,
          "ay": 0,
          "text": "worst symmetry",
          "x": 0.4483067446599848,
          "xanchor": "center",
          "y": 0.33878269475509826,
          "yanchor": "bottom",
          "yshift": 5
         },
         {
          "arrowhead": 2,
          "arrowsize": 2,
          "ax": 0,
          "axref": "x",
          "ay": 0,
          "ayref": "y",
          "showarrow": true,
          "x": 0.48069520098495777,
          "xanchor": "right",
          "y": 0.6574432310642432,
          "yanchor": "top"
         },
         {
          "ax": 0,
          "ay": 0,
          "text": "worst fractal dimension",
          "x": 0.48069520098495777,
          "xanchor": "center",
          "y": 0.6574432310642432,
          "yanchor": "bottom",
          "yshift": 5
         }
        ],
        "legend": {
         "tracegroupgap": 0
        },
        "margin": {
         "t": 60
        },
        "template": {
         "data": {
          "bar": [
           {
            "error_x": {
             "color": "#2a3f5f"
            },
            "error_y": {
             "color": "#2a3f5f"
            },
            "marker": {
             "line": {
              "color": "#E5ECF6",
              "width": 0.5
             },
             "pattern": {
              "fillmode": "overlay",
              "size": 10,
              "solidity": 0.2
             }
            },
            "type": "bar"
           }
          ],
          "barpolar": [
           {
            "marker": {
             "line": {
              "color": "#E5ECF6",
              "width": 0.5
             },
             "pattern": {
              "fillmode": "overlay",
              "size": 10,
              "solidity": 0.2
             }
            },
            "type": "barpolar"
           }
          ],
          "carpet": [
           {
            "aaxis": {
             "endlinecolor": "#2a3f5f",
             "gridcolor": "white",
             "linecolor": "white",
             "minorgridcolor": "white",
             "startlinecolor": "#2a3f5f"
            },
            "baxis": {
             "endlinecolor": "#2a3f5f",
             "gridcolor": "white",
             "linecolor": "white",
             "minorgridcolor": "white",
             "startlinecolor": "#2a3f5f"
            },
            "type": "carpet"
           }
          ],
          "choropleth": [
           {
            "colorbar": {
             "outlinewidth": 0,
             "ticks": ""
            },
            "type": "choropleth"
           }
          ],
          "contour": [
           {
            "colorbar": {
             "outlinewidth": 0,
             "ticks": ""
            },
            "colorscale": [
             [
              0,
              "#0d0887"
             ],
             [
              0.1111111111111111,
              "#46039f"
             ],
             [
              0.2222222222222222,
              "#7201a8"
             ],
             [
              0.3333333333333333,
              "#9c179e"
             ],
             [
              0.4444444444444444,
              "#bd3786"
             ],
             [
              0.5555555555555556,
              "#d8576b"
             ],
             [
              0.6666666666666666,
              "#ed7953"
             ],
             [
              0.7777777777777778,
              "#fb9f3a"
             ],
             [
              0.8888888888888888,
              "#fdca26"
             ],
             [
              1,
              "#f0f921"
             ]
            ],
            "type": "contour"
           }
          ],
          "contourcarpet": [
           {
            "colorbar": {
             "outlinewidth": 0,
             "ticks": ""
            },
            "type": "contourcarpet"
           }
          ],
          "heatmap": [
           {
            "colorbar": {
             "outlinewidth": 0,
             "ticks": ""
            },
            "colorscale": [
             [
              0,
              "#0d0887"
             ],
             [
              0.1111111111111111,
              "#46039f"
             ],
             [
              0.2222222222222222,
              "#7201a8"
             ],
             [
              0.3333333333333333,
              "#9c179e"
             ],
             [
              0.4444444444444444,
              "#bd3786"
             ],
             [
              0.5555555555555556,
              "#d8576b"
             ],
             [
              0.6666666666666666,
              "#ed7953"
             ],
             [
              0.7777777777777778,
              "#fb9f3a"
             ],
             [
              0.8888888888888888,
              "#fdca26"
             ],
             [
              1,
              "#f0f921"
             ]
            ],
            "type": "heatmap"
           }
          ],
          "heatmapgl": [
           {
            "colorbar": {
             "outlinewidth": 0,
             "ticks": ""
            },
            "colorscale": [
             [
              0,
              "#0d0887"
             ],
             [
              0.1111111111111111,
              "#46039f"
             ],
             [
              0.2222222222222222,
              "#7201a8"
             ],
             [
              0.3333333333333333,
              "#9c179e"
             ],
             [
              0.4444444444444444,
              "#bd3786"
             ],
             [
              0.5555555555555556,
              "#d8576b"
             ],
             [
              0.6666666666666666,
              "#ed7953"
             ],
             [
              0.7777777777777778,
              "#fb9f3a"
             ],
             [
              0.8888888888888888,
              "#fdca26"
             ],
             [
              1,
              "#f0f921"
             ]
            ],
            "type": "heatmapgl"
           }
          ],
          "histogram": [
           {
            "marker": {
             "pattern": {
              "fillmode": "overlay",
              "size": 10,
              "solidity": 0.2
             }
            },
            "type": "histogram"
           }
          ],
          "histogram2d": [
           {
            "colorbar": {
             "outlinewidth": 0,
             "ticks": ""
            },
            "colorscale": [
             [
              0,
              "#0d0887"
             ],
             [
              0.1111111111111111,
              "#46039f"
             ],
             [
              0.2222222222222222,
              "#7201a8"
             ],
             [
              0.3333333333333333,
              "#9c179e"
             ],
             [
              0.4444444444444444,
              "#bd3786"
             ],
             [
              0.5555555555555556,
              "#d8576b"
             ],
             [
              0.6666666666666666,
              "#ed7953"
             ],
             [
              0.7777777777777778,
              "#fb9f3a"
             ],
             [
              0.8888888888888888,
              "#fdca26"
             ],
             [
              1,
              "#f0f921"
             ]
            ],
            "type": "histogram2d"
           }
          ],
          "histogram2dcontour": [
           {
            "colorbar": {
             "outlinewidth": 0,
             "ticks": ""
            },
            "colorscale": [
             [
              0,
              "#0d0887"
             ],
             [
              0.1111111111111111,
              "#46039f"
             ],
             [
              0.2222222222222222,
              "#7201a8"
             ],
             [
              0.3333333333333333,
              "#9c179e"
             ],
             [
              0.4444444444444444,
              "#bd3786"
             ],
             [
              0.5555555555555556,
              "#d8576b"
             ],
             [
              0.6666666666666666,
              "#ed7953"
             ],
             [
              0.7777777777777778,
              "#fb9f3a"
             ],
             [
              0.8888888888888888,
              "#fdca26"
             ],
             [
              1,
              "#f0f921"
             ]
            ],
            "type": "histogram2dcontour"
           }
          ],
          "mesh3d": [
           {
            "colorbar": {
             "outlinewidth": 0,
             "ticks": ""
            },
            "type": "mesh3d"
           }
          ],
          "parcoords": [
           {
            "line": {
             "colorbar": {
              "outlinewidth": 0,
              "ticks": ""
             }
            },
            "type": "parcoords"
           }
          ],
          "pie": [
           {
            "automargin": true,
            "type": "pie"
           }
          ],
          "scatter": [
           {
            "fillpattern": {
             "fillmode": "overlay",
             "size": 10,
             "solidity": 0.2
            },
            "type": "scatter"
           }
          ],
          "scatter3d": [
           {
            "line": {
             "colorbar": {
              "outlinewidth": 0,
              "ticks": ""
             }
            },
            "marker": {
             "colorbar": {
              "outlinewidth": 0,
              "ticks": ""
             }
            },
            "type": "scatter3d"
           }
          ],
          "scattercarpet": [
           {
            "marker": {
             "colorbar": {
              "outlinewidth": 0,
              "ticks": ""
             }
            },
            "type": "scattercarpet"
           }
          ],
          "scattergeo": [
           {
            "marker": {
             "colorbar": {
              "outlinewidth": 0,
              "ticks": ""
             }
            },
            "type": "scattergeo"
           }
          ],
          "scattergl": [
           {
            "marker": {
             "colorbar": {
              "outlinewidth": 0,
              "ticks": ""
             }
            },
            "type": "scattergl"
           }
          ],
          "scattermapbox": [
           {
            "marker": {
             "colorbar": {
              "outlinewidth": 0,
              "ticks": ""
             }
            },
            "type": "scattermapbox"
           }
          ],
          "scatterpolar": [
           {
            "marker": {
             "colorbar": {
              "outlinewidth": 0,
              "ticks": ""
             }
            },
            "type": "scatterpolar"
           }
          ],
          "scatterpolargl": [
           {
            "marker": {
             "colorbar": {
              "outlinewidth": 0,
              "ticks": ""
             }
            },
            "type": "scatterpolargl"
           }
          ],
          "scatterternary": [
           {
            "marker": {
             "colorbar": {
              "outlinewidth": 0,
              "ticks": ""
             }
            },
            "type": "scatterternary"
           }
          ],
          "surface": [
           {
            "colorbar": {
             "outlinewidth": 0,
             "ticks": ""
            },
            "colorscale": [
             [
              0,
              "#0d0887"
             ],
             [
              0.1111111111111111,
              "#46039f"
             ],
             [
              0.2222222222222222,
              "#7201a8"
             ],
             [
              0.3333333333333333,
              "#9c179e"
             ],
             [
              0.4444444444444444,
              "#bd3786"
             ],
             [
              0.5555555555555556,
              "#d8576b"
             ],
             [
              0.6666666666666666,
              "#ed7953"
             ],
             [
              0.7777777777777778,
              "#fb9f3a"
             ],
             [
              0.8888888888888888,
              "#fdca26"
             ],
             [
              1,
              "#f0f921"
             ]
            ],
            "type": "surface"
           }
          ],
          "table": [
           {
            "cells": {
             "fill": {
              "color": "#EBF0F8"
             },
             "line": {
              "color": "white"
             }
            },
            "header": {
             "fill": {
              "color": "#C8D4E3"
             },
             "line": {
              "color": "white"
             }
            },
            "type": "table"
           }
          ]
         },
         "layout": {
          "annotationdefaults": {
           "arrowcolor": "#2a3f5f",
           "arrowhead": 0,
           "arrowwidth": 1
          },
          "autotypenumbers": "strict",
          "coloraxis": {
           "colorbar": {
            "outlinewidth": 0,
            "ticks": ""
           }
          },
          "colorscale": {
           "diverging": [
            [
             0,
             "#8e0152"
            ],
            [
             0.1,
             "#c51b7d"
            ],
            [
             0.2,
             "#de77ae"
            ],
            [
             0.3,
             "#f1b6da"
            ],
            [
             0.4,
             "#fde0ef"
            ],
            [
             0.5,
             "#f7f7f7"
            ],
            [
             0.6,
             "#e6f5d0"
            ],
            [
             0.7,
             "#b8e186"
            ],
            [
             0.8,
             "#7fbc41"
            ],
            [
             0.9,
             "#4d9221"
            ],
            [
             1,
             "#276419"
            ]
           ],
           "sequential": [
            [
             0,
             "#0d0887"
            ],
            [
             0.1111111111111111,
             "#46039f"
            ],
            [
             0.2222222222222222,
             "#7201a8"
            ],
            [
             0.3333333333333333,
             "#9c179e"
            ],
            [
             0.4444444444444444,
             "#bd3786"
            ],
            [
             0.5555555555555556,
             "#d8576b"
            ],
            [
             0.6666666666666666,
             "#ed7953"
            ],
            [
             0.7777777777777778,
             "#fb9f3a"
            ],
            [
             0.8888888888888888,
             "#fdca26"
            ],
            [
             1,
             "#f0f921"
            ]
           ],
           "sequentialminus": [
            [
             0,
             "#0d0887"
            ],
            [
             0.1111111111111111,
             "#46039f"
            ],
            [
             0.2222222222222222,
             "#7201a8"
            ],
            [
             0.3333333333333333,
             "#9c179e"
            ],
            [
             0.4444444444444444,
             "#bd3786"
            ],
            [
             0.5555555555555556,
             "#d8576b"
            ],
            [
             0.6666666666666666,
             "#ed7953"
            ],
            [
             0.7777777777777778,
             "#fb9f3a"
            ],
            [
             0.8888888888888888,
             "#fdca26"
            ],
            [
             1,
             "#f0f921"
            ]
           ]
          },
          "colorway": [
           "#636efa",
           "#EF553B",
           "#00cc96",
           "#ab63fa",
           "#FFA15A",
           "#19d3f3",
           "#FF6692",
           "#B6E880",
           "#FF97FF",
           "#FECB52"
          ],
          "font": {
           "color": "#2a3f5f"
          },
          "geo": {
           "bgcolor": "white",
           "lakecolor": "white",
           "landcolor": "#E5ECF6",
           "showlakes": true,
           "showland": true,
           "subunitcolor": "white"
          },
          "hoverlabel": {
           "align": "left"
          },
          "hovermode": "closest",
          "mapbox": {
           "style": "light"
          },
          "paper_bgcolor": "white",
          "plot_bgcolor": "#E5ECF6",
          "polar": {
           "angularaxis": {
            "gridcolor": "white",
            "linecolor": "white",
            "ticks": ""
           },
           "bgcolor": "#E5ECF6",
           "radialaxis": {
            "gridcolor": "white",
            "linecolor": "white",
            "ticks": ""
           }
          },
          "scene": {
           "xaxis": {
            "backgroundcolor": "#E5ECF6",
            "gridcolor": "white",
            "gridwidth": 2,
            "linecolor": "white",
            "showbackground": true,
            "ticks": "",
            "zerolinecolor": "white"
           },
           "yaxis": {
            "backgroundcolor": "#E5ECF6",
            "gridcolor": "white",
            "gridwidth": 2,
            "linecolor": "white",
            "showbackground": true,
            "ticks": "",
            "zerolinecolor": "white"
           },
           "zaxis": {
            "backgroundcolor": "#E5ECF6",
            "gridcolor": "white",
            "gridwidth": 2,
            "linecolor": "white",
            "showbackground": true,
            "ticks": "",
            "zerolinecolor": "white"
           }
          },
          "shapedefaults": {
           "line": {
            "color": "#2a3f5f"
           }
          },
          "ternary": {
           "aaxis": {
            "gridcolor": "white",
            "linecolor": "white",
            "ticks": ""
           },
           "baxis": {
            "gridcolor": "white",
            "linecolor": "white",
            "ticks": ""
           },
           "bgcolor": "#E5ECF6",
           "caxis": {
            "gridcolor": "white",
            "linecolor": "white",
            "ticks": ""
           }
          },
          "title": {
           "x": 0.05
          },
          "xaxis": {
           "automargin": true,
           "gridcolor": "white",
           "linecolor": "white",
           "ticks": "",
           "title": {
            "standoff": 15
           },
           "zerolinecolor": "white",
           "zerolinewidth": 2
          },
          "yaxis": {
           "automargin": true,
           "gridcolor": "white",
           "linecolor": "white",
           "ticks": "",
           "title": {
            "standoff": 15
           },
           "zerolinecolor": "white",
           "zerolinewidth": 2
          }
         }
        },
        "xaxis": {
         "anchor": "y",
         "domain": [
          0,
          1
         ],
         "title": {
          "text": "0"
         }
        },
        "yaxis": {
         "anchor": "x",
         "domain": [
          0,
          1
         ],
         "title": {
          "text": "1"
         }
        }
       }
      }
     },
     "metadata": {},
     "output_type": "display_data"
    }
   ],
   "source": [
    "import plotly.express as px\n",
    "loadings = pca.components_.T * np.sqrt(pca.explained_variance_)\n",
    "\n",
    "fig = px.scatter(x_pca, x=0, y=1)\n",
    "\n",
    "for i, feature in enumerate(cancer[\"feature_names\"]):\n",
    "    fig.add_annotation(\n",
    "        ax=0, ay=0,\n",
    "        axref=\"x\", ayref=\"y\",\n",
    "        x=loadings[i, 0],\n",
    "        y=loadings[i, 1],\n",
    "        showarrow=True,\n",
    "        arrowsize=2,\n",
    "        arrowhead=2,\n",
    "        xanchor=\"right\",\n",
    "        yanchor=\"top\"\n",
    "    )\n",
    "    fig.add_annotation(\n",
    "        x=loadings[i, 0],\n",
    "        y=loadings[i, 1],\n",
    "        ax=0, ay=0,\n",
    "        xanchor=\"center\",\n",
    "        yanchor=\"bottom\",\n",
    "        text=feature,\n",
    "        yshift=5,\n",
    "    )\n",
    "fig.show()"
   ]
  },
  {
   "cell_type": "code",
   "execution_count": 10,
   "metadata": {},
   "outputs": [],
   "source": [
    "df_comp = pd.DataFrame(pca.components_,columns=cancer['feature_names'])"
   ]
  },
  {
   "cell_type": "code",
   "execution_count": 12,
   "metadata": {},
   "outputs": [
    {
     "data": {
      "application/vnd.plotly.v1+json": {
       "config": {
        "plotlyServerURL": "https://plot.ly"
       },
       "data": [
        {
         "coloraxis": "coloraxis",
         "hovertemplate": "x: %{x}<br>y: %{y}<br>color: %{z}<extra></extra>",
         "name": "0",
         "type": "heatmap",
         "x": [
          "mean radius",
          "mean texture",
          "mean perimeter",
          "mean area",
          "mean smoothness",
          "mean compactness",
          "mean concavity",
          "mean concave points",
          "mean symmetry",
          "mean fractal dimension",
          "radius error",
          "texture error",
          "perimeter error",
          "area error",
          "smoothness error",
          "compactness error",
          "concavity error",
          "concave points error",
          "symmetry error",
          "fractal dimension error",
          "worst radius",
          "worst texture",
          "worst perimeter",
          "worst area",
          "worst smoothness",
          "worst compactness",
          "worst concavity",
          "worst concave points",
          "worst symmetry",
          "worst fractal dimension"
         ],
         "xaxis": "x",
         "y": [
          0,
          1
         ],
         "yaxis": "y",
         "z": [
          [
           0.21890244370000245,
           0.10372457821570505,
           0.2275372930056255,
           0.22099498538594006,
           0.14258969436023827,
           0.23928535395299982,
           0.2584004812487709,
           0.26085375838574004,
           0.13816695930364933,
           0.06436334637177422,
           0.20597877585525323,
           0.017428028148951058,
           0.21132591637549425,
           0.20286963544140466,
           0.014531452147837026,
           0.17039345120745863,
           0.1535897897397905,
           0.18341739696412937,
           0.042498421633038616,
           0.10256832209557754,
           0.22799663423247285,
           0.10446932545719423,
           0.23663968074164538,
           0.22487053273420576,
           0.12795256119285972,
           0.2100958801578263,
           0.22876753281500917,
           0.2508859712179974,
           0.12290455637796975,
           0.1317839428779591
          ],
          [
           -0.23385713174760847,
           -0.05970608828984797,
           -0.21518136139664698,
           -0.23107671128400548,
           0.18611302267061725,
           0.15189161007601165,
           0.06016536280032315,
           -0.034767500492705654,
           0.19034877037316209,
           0.3665754713787287,
           -0.10555215182612289,
           0.08997968182743003,
           -0.08945723422050501,
           -0.15229262810523517,
           0.20443045303115576,
           0.23271589619125554,
           0.19720728271030058,
           0.1303215599058887,
           0.18384799994501524,
           0.2800920266095467,
           -0.21986637930116473,
           -0.04546729827055976,
           -0.19987842794172547,
           -0.21935185792401293,
           0.1723043516498574,
           0.14359317327335958,
           0.09796411433645791,
           -0.008257235070340107,
           0.1418833485998892,
           0.27533946857928093
          ]
         ]
        }
       ],
       "layout": {
        "coloraxis": {
         "colorscale": [
          [
           0,
           "#0d0887"
          ],
          [
           0.1111111111111111,
           "#46039f"
          ],
          [
           0.2222222222222222,
           "#7201a8"
          ],
          [
           0.3333333333333333,
           "#9c179e"
          ],
          [
           0.4444444444444444,
           "#bd3786"
          ],
          [
           0.5555555555555556,
           "#d8576b"
          ],
          [
           0.6666666666666666,
           "#ed7953"
          ],
          [
           0.7777777777777778,
           "#fb9f3a"
          ],
          [
           0.8888888888888888,
           "#fdca26"
          ],
          [
           1,
           "#f0f921"
          ]
         ]
        },
        "margin": {
         "t": 60
        },
        "template": {
         "data": {
          "bar": [
           {
            "error_x": {
             "color": "#2a3f5f"
            },
            "error_y": {
             "color": "#2a3f5f"
            },
            "marker": {
             "line": {
              "color": "#E5ECF6",
              "width": 0.5
             },
             "pattern": {
              "fillmode": "overlay",
              "size": 10,
              "solidity": 0.2
             }
            },
            "type": "bar"
           }
          ],
          "barpolar": [
           {
            "marker": {
             "line": {
              "color": "#E5ECF6",
              "width": 0.5
             },
             "pattern": {
              "fillmode": "overlay",
              "size": 10,
              "solidity": 0.2
             }
            },
            "type": "barpolar"
           }
          ],
          "carpet": [
           {
            "aaxis": {
             "endlinecolor": "#2a3f5f",
             "gridcolor": "white",
             "linecolor": "white",
             "minorgridcolor": "white",
             "startlinecolor": "#2a3f5f"
            },
            "baxis": {
             "endlinecolor": "#2a3f5f",
             "gridcolor": "white",
             "linecolor": "white",
             "minorgridcolor": "white",
             "startlinecolor": "#2a3f5f"
            },
            "type": "carpet"
           }
          ],
          "choropleth": [
           {
            "colorbar": {
             "outlinewidth": 0,
             "ticks": ""
            },
            "type": "choropleth"
           }
          ],
          "contour": [
           {
            "colorbar": {
             "outlinewidth": 0,
             "ticks": ""
            },
            "colorscale": [
             [
              0,
              "#0d0887"
             ],
             [
              0.1111111111111111,
              "#46039f"
             ],
             [
              0.2222222222222222,
              "#7201a8"
             ],
             [
              0.3333333333333333,
              "#9c179e"
             ],
             [
              0.4444444444444444,
              "#bd3786"
             ],
             [
              0.5555555555555556,
              "#d8576b"
             ],
             [
              0.6666666666666666,
              "#ed7953"
             ],
             [
              0.7777777777777778,
              "#fb9f3a"
             ],
             [
              0.8888888888888888,
              "#fdca26"
             ],
             [
              1,
              "#f0f921"
             ]
            ],
            "type": "contour"
           }
          ],
          "contourcarpet": [
           {
            "colorbar": {
             "outlinewidth": 0,
             "ticks": ""
            },
            "type": "contourcarpet"
           }
          ],
          "heatmap": [
           {
            "colorbar": {
             "outlinewidth": 0,
             "ticks": ""
            },
            "colorscale": [
             [
              0,
              "#0d0887"
             ],
             [
              0.1111111111111111,
              "#46039f"
             ],
             [
              0.2222222222222222,
              "#7201a8"
             ],
             [
              0.3333333333333333,
              "#9c179e"
             ],
             [
              0.4444444444444444,
              "#bd3786"
             ],
             [
              0.5555555555555556,
              "#d8576b"
             ],
             [
              0.6666666666666666,
              "#ed7953"
             ],
             [
              0.7777777777777778,
              "#fb9f3a"
             ],
             [
              0.8888888888888888,
              "#fdca26"
             ],
             [
              1,
              "#f0f921"
             ]
            ],
            "type": "heatmap"
           }
          ],
          "heatmapgl": [
           {
            "colorbar": {
             "outlinewidth": 0,
             "ticks": ""
            },
            "colorscale": [
             [
              0,
              "#0d0887"
             ],
             [
              0.1111111111111111,
              "#46039f"
             ],
             [
              0.2222222222222222,
              "#7201a8"
             ],
             [
              0.3333333333333333,
              "#9c179e"
             ],
             [
              0.4444444444444444,
              "#bd3786"
             ],
             [
              0.5555555555555556,
              "#d8576b"
             ],
             [
              0.6666666666666666,
              "#ed7953"
             ],
             [
              0.7777777777777778,
              "#fb9f3a"
             ],
             [
              0.8888888888888888,
              "#fdca26"
             ],
             [
              1,
              "#f0f921"
             ]
            ],
            "type": "heatmapgl"
           }
          ],
          "histogram": [
           {
            "marker": {
             "pattern": {
              "fillmode": "overlay",
              "size": 10,
              "solidity": 0.2
             }
            },
            "type": "histogram"
           }
          ],
          "histogram2d": [
           {
            "colorbar": {
             "outlinewidth": 0,
             "ticks": ""
            },
            "colorscale": [
             [
              0,
              "#0d0887"
             ],
             [
              0.1111111111111111,
              "#46039f"
             ],
             [
              0.2222222222222222,
              "#7201a8"
             ],
             [
              0.3333333333333333,
              "#9c179e"
             ],
             [
              0.4444444444444444,
              "#bd3786"
             ],
             [
              0.5555555555555556,
              "#d8576b"
             ],
             [
              0.6666666666666666,
              "#ed7953"
             ],
             [
              0.7777777777777778,
              "#fb9f3a"
             ],
             [
              0.8888888888888888,
              "#fdca26"
             ],
             [
              1,
              "#f0f921"
             ]
            ],
            "type": "histogram2d"
           }
          ],
          "histogram2dcontour": [
           {
            "colorbar": {
             "outlinewidth": 0,
             "ticks": ""
            },
            "colorscale": [
             [
              0,
              "#0d0887"
             ],
             [
              0.1111111111111111,
              "#46039f"
             ],
             [
              0.2222222222222222,
              "#7201a8"
             ],
             [
              0.3333333333333333,
              "#9c179e"
             ],
             [
              0.4444444444444444,
              "#bd3786"
             ],
             [
              0.5555555555555556,
              "#d8576b"
             ],
             [
              0.6666666666666666,
              "#ed7953"
             ],
             [
              0.7777777777777778,
              "#fb9f3a"
             ],
             [
              0.8888888888888888,
              "#fdca26"
             ],
             [
              1,
              "#f0f921"
             ]
            ],
            "type": "histogram2dcontour"
           }
          ],
          "mesh3d": [
           {
            "colorbar": {
             "outlinewidth": 0,
             "ticks": ""
            },
            "type": "mesh3d"
           }
          ],
          "parcoords": [
           {
            "line": {
             "colorbar": {
              "outlinewidth": 0,
              "ticks": ""
             }
            },
            "type": "parcoords"
           }
          ],
          "pie": [
           {
            "automargin": true,
            "type": "pie"
           }
          ],
          "scatter": [
           {
            "fillpattern": {
             "fillmode": "overlay",
             "size": 10,
             "solidity": 0.2
            },
            "type": "scatter"
           }
          ],
          "scatter3d": [
           {
            "line": {
             "colorbar": {
              "outlinewidth": 0,
              "ticks": ""
             }
            },
            "marker": {
             "colorbar": {
              "outlinewidth": 0,
              "ticks": ""
             }
            },
            "type": "scatter3d"
           }
          ],
          "scattercarpet": [
           {
            "marker": {
             "colorbar": {
              "outlinewidth": 0,
              "ticks": ""
             }
            },
            "type": "scattercarpet"
           }
          ],
          "scattergeo": [
           {
            "marker": {
             "colorbar": {
              "outlinewidth": 0,
              "ticks": ""
             }
            },
            "type": "scattergeo"
           }
          ],
          "scattergl": [
           {
            "marker": {
             "colorbar": {
              "outlinewidth": 0,
              "ticks": ""
             }
            },
            "type": "scattergl"
           }
          ],
          "scattermapbox": [
           {
            "marker": {
             "colorbar": {
              "outlinewidth": 0,
              "ticks": ""
             }
            },
            "type": "scattermapbox"
           }
          ],
          "scatterpolar": [
           {
            "marker": {
             "colorbar": {
              "outlinewidth": 0,
              "ticks": ""
             }
            },
            "type": "scatterpolar"
           }
          ],
          "scatterpolargl": [
           {
            "marker": {
             "colorbar": {
              "outlinewidth": 0,
              "ticks": ""
             }
            },
            "type": "scatterpolargl"
           }
          ],
          "scatterternary": [
           {
            "marker": {
             "colorbar": {
              "outlinewidth": 0,
              "ticks": ""
             }
            },
            "type": "scatterternary"
           }
          ],
          "surface": [
           {
            "colorbar": {
             "outlinewidth": 0,
             "ticks": ""
            },
            "colorscale": [
             [
              0,
              "#0d0887"
             ],
             [
              0.1111111111111111,
              "#46039f"
             ],
             [
              0.2222222222222222,
              "#7201a8"
             ],
             [
              0.3333333333333333,
              "#9c179e"
             ],
             [
              0.4444444444444444,
              "#bd3786"
             ],
             [
              0.5555555555555556,
              "#d8576b"
             ],
             [
              0.6666666666666666,
              "#ed7953"
             ],
             [
              0.7777777777777778,
              "#fb9f3a"
             ],
             [
              0.8888888888888888,
              "#fdca26"
             ],
             [
              1,
              "#f0f921"
             ]
            ],
            "type": "surface"
           }
          ],
          "table": [
           {
            "cells": {
             "fill": {
              "color": "#EBF0F8"
             },
             "line": {
              "color": "white"
             }
            },
            "header": {
             "fill": {
              "color": "#C8D4E3"
             },
             "line": {
              "color": "white"
             }
            },
            "type": "table"
           }
          ]
         },
         "layout": {
          "annotationdefaults": {
           "arrowcolor": "#2a3f5f",
           "arrowhead": 0,
           "arrowwidth": 1
          },
          "autotypenumbers": "strict",
          "coloraxis": {
           "colorbar": {
            "outlinewidth": 0,
            "ticks": ""
           }
          },
          "colorscale": {
           "diverging": [
            [
             0,
             "#8e0152"
            ],
            [
             0.1,
             "#c51b7d"
            ],
            [
             0.2,
             "#de77ae"
            ],
            [
             0.3,
             "#f1b6da"
            ],
            [
             0.4,
             "#fde0ef"
            ],
            [
             0.5,
             "#f7f7f7"
            ],
            [
             0.6,
             "#e6f5d0"
            ],
            [
             0.7,
             "#b8e186"
            ],
            [
             0.8,
             "#7fbc41"
            ],
            [
             0.9,
             "#4d9221"
            ],
            [
             1,
             "#276419"
            ]
           ],
           "sequential": [
            [
             0,
             "#0d0887"
            ],
            [
             0.1111111111111111,
             "#46039f"
            ],
            [
             0.2222222222222222,
             "#7201a8"
            ],
            [
             0.3333333333333333,
             "#9c179e"
            ],
            [
             0.4444444444444444,
             "#bd3786"
            ],
            [
             0.5555555555555556,
             "#d8576b"
            ],
            [
             0.6666666666666666,
             "#ed7953"
            ],
            [
             0.7777777777777778,
             "#fb9f3a"
            ],
            [
             0.8888888888888888,
             "#fdca26"
            ],
            [
             1,
             "#f0f921"
            ]
           ],
           "sequentialminus": [
            [
             0,
             "#0d0887"
            ],
            [
             0.1111111111111111,
             "#46039f"
            ],
            [
             0.2222222222222222,
             "#7201a8"
            ],
            [
             0.3333333333333333,
             "#9c179e"
            ],
            [
             0.4444444444444444,
             "#bd3786"
            ],
            [
             0.5555555555555556,
             "#d8576b"
            ],
            [
             0.6666666666666666,
             "#ed7953"
            ],
            [
             0.7777777777777778,
             "#fb9f3a"
            ],
            [
             0.8888888888888888,
             "#fdca26"
            ],
            [
             1,
             "#f0f921"
            ]
           ]
          },
          "colorway": [
           "#636efa",
           "#EF553B",
           "#00cc96",
           "#ab63fa",
           "#FFA15A",
           "#19d3f3",
           "#FF6692",
           "#B6E880",
           "#FF97FF",
           "#FECB52"
          ],
          "font": {
           "color": "#2a3f5f"
          },
          "geo": {
           "bgcolor": "white",
           "lakecolor": "white",
           "landcolor": "#E5ECF6",
           "showlakes": true,
           "showland": true,
           "subunitcolor": "white"
          },
          "hoverlabel": {
           "align": "left"
          },
          "hovermode": "closest",
          "mapbox": {
           "style": "light"
          },
          "paper_bgcolor": "white",
          "plot_bgcolor": "#E5ECF6",
          "polar": {
           "angularaxis": {
            "gridcolor": "white",
            "linecolor": "white",
            "ticks": ""
           },
           "bgcolor": "#E5ECF6",
           "radialaxis": {
            "gridcolor": "white",
            "linecolor": "white",
            "ticks": ""
           }
          },
          "scene": {
           "xaxis": {
            "backgroundcolor": "#E5ECF6",
            "gridcolor": "white",
            "gridwidth": 2,
            "linecolor": "white",
            "showbackground": true,
            "ticks": "",
            "zerolinecolor": "white"
           },
           "yaxis": {
            "backgroundcolor": "#E5ECF6",
            "gridcolor": "white",
            "gridwidth": 2,
            "linecolor": "white",
            "showbackground": true,
            "ticks": "",
            "zerolinecolor": "white"
           },
           "zaxis": {
            "backgroundcolor": "#E5ECF6",
            "gridcolor": "white",
            "gridwidth": 2,
            "linecolor": "white",
            "showbackground": true,
            "ticks": "",
            "zerolinecolor": "white"
           }
          },
          "shapedefaults": {
           "line": {
            "color": "#2a3f5f"
           }
          },
          "ternary": {
           "aaxis": {
            "gridcolor": "white",
            "linecolor": "white",
            "ticks": ""
           },
           "baxis": {
            "gridcolor": "white",
            "linecolor": "white",
            "ticks": ""
           },
           "bgcolor": "#E5ECF6",
           "caxis": {
            "gridcolor": "white",
            "linecolor": "white",
            "ticks": ""
           }
          },
          "title": {
           "x": 0.05
          },
          "xaxis": {
           "automargin": true,
           "gridcolor": "white",
           "linecolor": "white",
           "ticks": "",
           "title": {
            "standoff": 15
           },
           "zerolinecolor": "white",
           "zerolinewidth": 2
          },
          "yaxis": {
           "automargin": true,
           "gridcolor": "white",
           "linecolor": "white",
           "ticks": "",
           "title": {
            "standoff": 15
           },
           "zerolinecolor": "white",
           "zerolinewidth": 2
          }
         }
        },
        "xaxis": {
         "anchor": "y",
         "constrain": "domain",
         "domain": [
          0,
          1
         ],
         "scaleanchor": "y"
        },
        "yaxis": {
         "anchor": "x",
         "autorange": "reversed",
         "constrain": "domain",
         "domain": [
          0,
          1
         ]
        }
       }
      }
     },
     "metadata": {},
     "output_type": "display_data"
    }
   ],
   "source": [
    "fig = px.imshow(df_comp)\n",
    "fig.show()"
   ]
  }
 ],
 "metadata": {
  "kernelspec": {
   "display_name": "Python 3",
   "language": "python",
   "name": "python3"
  },
  "language_info": {
   "codemirror_mode": {
    "name": "ipython",
    "version": 3
   },
   "file_extension": ".py",
   "mimetype": "text/x-python",
   "name": "python",
   "nbconvert_exporter": "python",
   "pygments_lexer": "ipython3",
   "version": "3.8.16"
  },
  "orig_nbformat": 4
 },
 "nbformat": 4,
 "nbformat_minor": 2
}
